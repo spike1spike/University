{
  "cells": [
    {
      "cell_type": "markdown",
      "metadata": {
        "id": "view-in-github",
        "colab_type": "text"
      },
      "source": [
        "<a href=\"https://colab.research.google.com/github/spike1spike/University/blob/main/Tasks/Ex_task_3.ipynb\" target=\"_parent\"><img src=\"https://colab.research.google.com/assets/colab-badge.svg\" alt=\"Open In Colab\"/></a>"
      ]
    },
    {
      "cell_type": "markdown",
      "id": "bb332bf9",
      "metadata": {
        "id": "bb332bf9"
      },
      "source": [
        "# **Дополнительное задание №3. Обработка исключений и работа с текстовыми файлами**"
      ]
    },
    {
      "cell_type": "markdown",
      "id": "aa6808db",
      "metadata": {
        "id": "aa6808db"
      },
      "source": [
        "**БАЗА:**\n",
        "\n",
        "- **Обработка исключений** позволяет перехватывать и обрабатывать ошибки, возникающие при выполнении программы, предотвращая её аварийное завершение.\n",
        "- **Работа с файлами** - важный навык для чтения, записи и обработки текстовой информации в Python.\n",
        "\n",
        "---"
      ]
    },
    {
      "cell_type": "markdown",
      "id": "2478deca",
      "metadata": {
        "id": "2478deca"
      },
      "source": [
        "## **I. Обработка исключений**"
      ]
    },
    {
      "cell_type": "markdown",
      "id": "0ab0b851",
      "metadata": {
        "id": "0ab0b851"
      },
      "source": [
        "### **Пункт №1. Обработка некорректного индекса (IndexError)**"
      ]
    },
    {
      "cell_type": "markdown",
      "id": "46e69e1f",
      "metadata": {
        "id": "46e69e1f"
      },
      "source": [
        "Создайте список из нескольких элементов (например, [10, 20, 30]). Попросите пользователя ввести индекс элемента, который нужно вывести. Если пользователь введёт индекс, выходящий за границы списка, перехватите IndexError и сообщите об этом.\n",
        "\n",
        "**ОБЯЗАТЕЛЬНО:**\n",
        "- Создайте список из минимум 5 элементов\n",
        "- Покажите содержимое списка перед работой\n",
        "- Протестируйте минимум 4 случая (корректный индекс, отрицательный, слишком большой, нечисловое значение)"
      ]
    },
    {
      "cell_type": "code",
      "execution_count": 1,
      "id": "724c5954",
      "metadata": {
        "id": "724c5954",
        "colab": {
          "base_uri": "https://localhost:8080/",
          "height": 359
        },
        "outputId": "0a47de63-9259-4d35-92b0-b50731140a2d"
      },
      "outputs": [
        {
          "name": "stdout",
          "output_type": "stream",
          "text": [
            "Содержимое списка: [10, 20, 30, 40, 50]\n",
            "Введите индекс элемента в списке: 2\n",
            "30\n",
            "Введите индекс элемента в списке: -3\n",
            "30\n",
            "Введите индекс элемента в списке: 150\n",
            "Введенный индекс выходит за границы списка\n",
            "Введите индекс элемента в списке: adf\n"
          ]
        },
        {
          "output_type": "error",
          "ename": "ValueError",
          "evalue": "invalid literal for int() with base 10: 'adf'",
          "traceback": [
            "\u001b[0;31m---------------------------------------------------------------------------\u001b[0m",
            "\u001b[0;31mValueError\u001b[0m                                Traceback (most recent call last)",
            "\u001b[0;32m/tmp/ipython-input-1013621935.py\u001b[0m in \u001b[0;36m<cell line: 0>\u001b[0;34m()\u001b[0m\n\u001b[1;32m      3\u001b[0m \u001b[0;32mfor\u001b[0m \u001b[0m_\u001b[0m \u001b[0;32min\u001b[0m \u001b[0mrange\u001b[0m\u001b[0;34m(\u001b[0m\u001b[0;36m4\u001b[0m\u001b[0;34m)\u001b[0m\u001b[0;34m:\u001b[0m\u001b[0;34m\u001b[0m\u001b[0;34m\u001b[0m\u001b[0m\n\u001b[1;32m      4\u001b[0m     \u001b[0;32mtry\u001b[0m\u001b[0;34m:\u001b[0m\u001b[0;34m\u001b[0m\u001b[0;34m\u001b[0m\u001b[0m\n\u001b[0;32m----> 5\u001b[0;31m         \u001b[0mindex\u001b[0m \u001b[0;34m=\u001b[0m \u001b[0mint\u001b[0m\u001b[0;34m(\u001b[0m\u001b[0minput\u001b[0m\u001b[0;34m(\u001b[0m\u001b[0;34m'Введите индекс элемента в списке: '\u001b[0m\u001b[0;34m)\u001b[0m\u001b[0;34m)\u001b[0m\u001b[0;34m\u001b[0m\u001b[0;34m\u001b[0m\u001b[0m\n\u001b[0m\u001b[1;32m      6\u001b[0m         \u001b[0mprint\u001b[0m\u001b[0;34m(\u001b[0m\u001b[0mlist1\u001b[0m\u001b[0;34m[\u001b[0m\u001b[0mindex\u001b[0m\u001b[0;34m]\u001b[0m\u001b[0;34m)\u001b[0m\u001b[0;34m\u001b[0m\u001b[0;34m\u001b[0m\u001b[0m\n\u001b[1;32m      7\u001b[0m     \u001b[0;32mexcept\u001b[0m \u001b[0mIndexError\u001b[0m\u001b[0;34m:\u001b[0m\u001b[0;34m\u001b[0m\u001b[0;34m\u001b[0m\u001b[0m\n",
            "\u001b[0;31mValueError\u001b[0m: invalid literal for int() with base 10: 'adf'"
          ]
        }
      ],
      "source": [
        "list1 = [10, 20, 30, 40, 50]\n",
        "print(f'Содержимое списка: {list1}')\n",
        "for _ in range(4):\n",
        "    try:\n",
        "        index = int(input('Введите индекс элемента в списке: '))\n",
        "        print(list1[index])\n",
        "    except IndexError:\n",
        "        print('Введенный индекс выходит за границы списка')"
      ]
    },
    {
      "cell_type": "markdown",
      "id": "7ac84eec",
      "metadata": {
        "id": "7ac84eec"
      },
      "source": [
        "---"
      ]
    },
    {
      "cell_type": "markdown",
      "id": "f8bfb6e1",
      "metadata": {
        "id": "f8bfb6e1"
      },
      "source": [
        "### **Пункт №2. Обработка исключений в цикле**"
      ]
    },
    {
      "cell_type": "markdown",
      "id": "63c3b706",
      "metadata": {
        "id": "63c3b706"
      },
      "source": [
        "Напишите программу, которая запрашивает у пользователя числа и добавляет их в список.\n",
        "- Если пользователь вводит некорректные данные, программа должна выводить сообщение об ошибке и продолжать работу.\n",
        "- Для выхода из программы пользователь должен ввести \"стоп\".\n",
        "\n",
        "**ОБЯЗАТЕЛЬНО:**\n",
        "- Покажите процесс ввода минимум 7 значений (включая ошибочные)\n",
        "- Выведите финальный список и статистику (сколько чисел введено успешно, сколько ошибок)"
      ]
    },
    {
      "cell_type": "markdown",
      "source": [
        "\n",
        "\n",
        "```\n",
        "# Пример:\n",
        "# Введите число: 10\n",
        "# Введите число: текст (Ошибка: это не число)\n",
        "# Введите число: стоп\n",
        "# Итоговый список: [10]\n",
        "```\n",
        "\n"
      ],
      "metadata": {
        "id": "aiWaEPOuoHDS"
      },
      "id": "aiWaEPOuoHDS"
    },
    {
      "cell_type": "code",
      "execution_count": 2,
      "id": "31448e09",
      "metadata": {
        "id": "31448e09",
        "colab": {
          "base_uri": "https://localhost:8080/"
        },
        "outputId": "4d8cc44c-2bd0-4a35-ca70-4ec92a5d4f27"
      },
      "outputs": [
        {
          "output_type": "stream",
          "name": "stdout",
          "text": [
            "Введите число: 34\n",
            "Введите число: 63\n",
            "Введите число: sfd\n",
            "Ошибка: это не число\n",
            "Введите число: 5\n",
            "Введите число: ge\n",
            "Ошибка: это не число\n",
            "Введите число: 0\n",
            "Введите число: gejgd\n",
            "Ошибка: это не число\n",
            "Введите число: стоп\n",
            "Итоговый список: [34, 63, 5, 0]\n",
            "Количество успешно введенных чисел: 4\n",
            "Количество ошибок: 3\n"
          ]
        }
      ],
      "source": [
        "k_r = k_er = 0\n",
        "nums = []\n",
        "while True:\n",
        "    num = input('Введите число: ')\n",
        "    if num == 'стоп':\n",
        "        break\n",
        "    else:\n",
        "        try:\n",
        "            num = int(num)\n",
        "        except ValueError:\n",
        "            print('Ошибка: это не число')\n",
        "            k_er += 1\n",
        "        except Exception as e:\n",
        "            print(f'Возникла неизвестная ошибка: {e}')\n",
        "            k_er += 1\n",
        "        else:\n",
        "            nums.append(num)\n",
        "            k_r += 1\n",
        "print(f'Итоговый список: {nums}')\n",
        "print(f'Количество успешно введенных чисел: {k_r}')\n",
        "print(f'Количество ошибок: {k_er}')"
      ]
    },
    {
      "cell_type": "markdown",
      "metadata": {
        "id": "Yv-FNYTEp0vV"
      },
      "source": [
        "---"
      ],
      "id": "Yv-FNYTEp0vV"
    },
    {
      "cell_type": "markdown",
      "id": "5971f85d",
      "metadata": {
        "id": "5971f85d"
      },
      "source": [
        "### **Пункт №3**"
      ]
    },
    {
      "cell_type": "markdown",
      "id": "b1457074",
      "metadata": {
        "id": "b1457074"
      },
      "source": [
        "Создайте функцию `get_list_element(lst, index)`, которая безопасно извлекает элемент списка по индексу с использованием блоков `try`, `except`, `else` и `finally`.\n",
        "\n",
        "Функция должна:\n",
        "- Обрабатывать выход за пределы списка\n",
        "- Обрабатывать некорректный тип индекса\n",
        "- Выводить сообщение о попытке доступа в блоке `finally`\n",
        "\n",
        "**ОБЯЗАТЕЛЬНО:**\n",
        "- Выведите результаты для минимум 4 различных случаев (успешный доступ, выход за границы, отрицательный индекс, нечисловой индекс)\n",
        "- Покажите, что блок `finally` выполняется всегда\n",
        "\n",
        "```python\n",
        "# Пример использования:\n",
        "my_list = [1, 2, 3, 4, 5]\n",
        "get_list_element(my_list, 2)   # Вывод: \"Элемент: 3\", \"Попытка доступа завершена\"\n",
        "get_list_element(my_list, 10)  # Вывод: \"Индекс вне диапазона\", \"Попытка доступа завершена\"\n",
        "```"
      ]
    },
    {
      "cell_type": "code",
      "execution_count": 3,
      "id": "1c067cf3",
      "metadata": {
        "id": "1c067cf3",
        "colab": {
          "base_uri": "https://localhost:8080/"
        },
        "outputId": "feae99e6-7653-4583-f617-152c4107c8ec"
      },
      "outputs": [
        {
          "output_type": "stream",
          "name": "stdout",
          "text": [
            "Элемент: 3\n",
            "Попытка доступа завершена\n",
            "Индекс вне диапазона\n",
            "Попытка доступа завершена\n",
            "Элемент: 2\n",
            "Попытка доступа завершена\n",
            "Введено нечисловое значение индекса\n",
            "Попытка доступа завершена\n"
          ]
        }
      ],
      "source": [
        "def get_list_element(lst, index):\n",
        "    try:\n",
        "        index = int(index)\n",
        "        elem = lst[index]\n",
        "    except ValueError:\n",
        "        print('Введено нечисловое значение индекса')\n",
        "    except IndexError:\n",
        "        print('Индекс вне диапазона')\n",
        "    except Exception as e:\n",
        "        print(f'Неизвестная ошибка: {e}')\n",
        "    else:\n",
        "        print(f'Элемент: {elem}')\n",
        "    finally:\n",
        "        print('Попытка доступа завершена')\n",
        "\n",
        "my_list = [1, 2, 3, 4, 5]\n",
        "get_list_element(my_list, 2)\n",
        "get_list_element(my_list, 10)\n",
        "get_list_element(my_list, -4)\n",
        "get_list_element(my_list, 'fjs')"
      ]
    },
    {
      "cell_type": "markdown",
      "id": "b5bb39c7",
      "metadata": {
        "id": "b5bb39c7"
      },
      "source": [
        "---"
      ]
    },
    {
      "cell_type": "markdown",
      "id": "b0972d59",
      "metadata": {
        "id": "b0972d59"
      },
      "source": [
        "## **II. Работа с текстовыми файлами**"
      ]
    },
    {
      "cell_type": "markdown",
      "id": "35729435",
      "metadata": {
        "id": "35729435"
      },
      "source": [
        "### **Пункт №1. Запись в файл**"
      ]
    },
    {
      "cell_type": "markdown",
      "id": "3121365f",
      "metadata": {
        "id": "3121365f"
      },
      "source": [
        "Напишите программу, которая запрашивает у пользователя строку и записывает её в файл output.txt в режиме дозаписи.\n",
        "\n",
        "**ОБЯЗАТЕЛЬНО:**\n",
        "- Запросите у пользователя минимум 3 строки\n",
        "- Покажите содержимое файла после записи"
      ]
    },
    {
      "cell_type": "code",
      "execution_count": 4,
      "id": "cbce6c5f",
      "metadata": {
        "id": "cbce6c5f",
        "colab": {
          "base_uri": "https://localhost:8080/"
        },
        "outputId": "ddf0f259-d023-4768-a948-4384da35adb0"
      },
      "outputs": [
        {
          "output_type": "stream",
          "name": "stdout",
          "text": [
            "Введите строку: line_1\n",
            "Введите строку: line_2\n",
            "Введите строку: line_3\n",
            "line_1\n",
            "line_2\n",
            "line_3\n"
          ]
        }
      ],
      "source": [
        "with open(file='output.txt', mode='a', encoding='utf-8') as file:\n",
        "    lines = [(input('Введите строку: ') + '\\n') if i!=2 else input('Введите строку: ') for i in range(3)]\n",
        "    file.writelines(lines)\n",
        "\n",
        "with open(file='output.txt', mode='r', encoding='utf-8') as file:\n",
        "    print(file.read())"
      ]
    },
    {
      "cell_type": "markdown",
      "id": "361b3d2b",
      "metadata": {
        "id": "361b3d2b"
      },
      "source": [
        "---"
      ]
    },
    {
      "cell_type": "markdown",
      "id": "cce864b4",
      "metadata": {
        "id": "cce864b4"
      },
      "source": [
        "### **Пункт №2. Чтение из файла**"
      ]
    },
    {
      "cell_type": "markdown",
      "id": "4fc83b82",
      "metadata": {
        "id": "4fc83b82"
      },
      "source": [
        "Напишите программу, которая открывает файл output.txt и выводит его содержимое на экран.\n",
        "\n",
        "**ОБЯЗАТЕЛЬНО:**\n",
        "- Создайте файл с минимум 5 строками текста\n",
        "- Покажите содержимое файла целиком\n",
        "- Обработайте случай отсутствующего файла"
      ]
    },
    {
      "cell_type": "code",
      "execution_count": 5,
      "id": "df27a986",
      "metadata": {
        "id": "df27a986",
        "colab": {
          "base_uri": "https://localhost:8080/"
        },
        "outputId": "cfa19699-be92-4bd7-89db-f17e59316322"
      },
      "outputs": [
        {
          "output_type": "stream",
          "name": "stdout",
          "text": [
            "Line_1\n",
            "Line_2\n",
            "Line_3\n",
            "Line_4\n",
            "Line_5\n"
          ]
        }
      ],
      "source": [
        "with open(file='output.txt', mode='w', encoding='utf-8') as file:\n",
        "    file.writelines(['Line_1\\n', 'Line_2\\n', 'Line_3\\n', 'Line_4\\n', 'Line_5'])\n",
        "\n",
        "try:\n",
        "    with open(file='output.txt', mode='r', encoding='utf-8') as file:\n",
        "        print(file.read())\n",
        "except FileNotFoundError:\n",
        "    print('Файл не найден')"
      ]
    },
    {
      "cell_type": "markdown",
      "id": "2be296a2",
      "metadata": {
        "id": "2be296a2"
      },
      "source": [
        "---"
      ]
    },
    {
      "cell_type": "markdown",
      "id": "045696ba",
      "metadata": {
        "id": "045696ba"
      },
      "source": [
        "### **Пункт №3. Подсчет строк в файле**"
      ]
    },
    {
      "cell_type": "markdown",
      "id": "570ac3e9",
      "metadata": {
        "id": "570ac3e9"
      },
      "source": [
        "Напишите программу, которая открывает файл output.txt и подсчитывает количество строк в нём.\n",
        "\n",
        "**ОБЯЗАТЕЛЬНО:**\n",
        "- Создайте тестовый файл с известным количеством строк (минимум 10)\n",
        "- Покажите первые 3 строки файла\n",
        "- Выведите общее количество строк\n",
        "- Выведите количество непустых строк"
      ]
    },
    {
      "cell_type": "code",
      "execution_count": 6,
      "id": "84aa205a",
      "metadata": {
        "id": "84aa205a",
        "colab": {
          "base_uri": "https://localhost:8080/"
        },
        "outputId": "9f01450f-69e5-4729-e835-b8a6b9e0a2cd"
      },
      "outputs": [
        {
          "output_type": "stream",
          "name": "stdout",
          "text": [
            "Line_1\n",
            "Line_2\n",
            "\n",
            "\n",
            "Общее количество строк в файле: 10\n",
            "Количество непустых строк в файле: 6\n"
          ]
        }
      ],
      "source": [
        "with open(file='output.txt', mode='w', encoding='utf-8') as file:\n",
        "    file.writelines(['Line_1\\n', 'Line_2\\n', '\\n', '\\n', 'Line_5\\n', '\\n', 'Line_7\\n', 'Line_8\\n', '\\n', 'Line_10'])\n",
        "\n",
        "with open(file='output.txt', mode='r', encoding='utf-8') as file:\n",
        "    lines_all = file.read().splitlines()\n",
        "    for i in range(3):\n",
        "        print(lines_all[i])\n",
        "    lines_nonempty = [line for line in lines_all if line != '']\n",
        "    print(f'\\nОбщее количество строк в файле: {len(lines_all)}')\n",
        "    print(f'Количество непустых строк в файле: {len(lines_nonempty)}')"
      ]
    },
    {
      "cell_type": "markdown",
      "id": "94c6dcb0",
      "metadata": {
        "id": "94c6dcb0"
      },
      "source": [
        "---"
      ]
    },
    {
      "cell_type": "markdown",
      "id": "56f2a74e",
      "metadata": {
        "id": "56f2a74e"
      },
      "source": [
        "### **Пункт №4. Копирование содержимого файла**"
      ]
    },
    {
      "cell_type": "markdown",
      "id": "ed736046",
      "metadata": {
        "id": "ed736046"
      },
      "source": [
        "Напишите программу, которая копирует содержимое файла input.txt в файл output.txt.\n",
        "\n",
        "**ОБЯЗАТЕЛЬНО:**\n",
        "- Создайте исходный файл с тестовым содержимым (минимум 5 строк)\n",
        "- Покажите содержимое исходного файла\n",
        "- Выполните копирование\n",
        "- Покажите содержимое скопированного файла\n",
        "- Обработайте случай отсутствия исходного файла"
      ]
    },
    {
      "cell_type": "code",
      "execution_count": 7,
      "id": "31bd8a06",
      "metadata": {
        "id": "31bd8a06",
        "colab": {
          "base_uri": "https://localhost:8080/"
        },
        "outputId": "8e669aa3-7d43-4139-f7cc-0c3ceaac73f6"
      },
      "outputs": [
        {
          "output_type": "stream",
          "name": "stdout",
          "text": [
            "Содержимое исходного файла:\n",
            "Line_1\n",
            "Line_2\n",
            "Line_3\n",
            "Line_4\n",
            "Line_5\n",
            "\n",
            "Содержимое скопированного файла:\n",
            "Line_1\n",
            "Line_2\n",
            "Line_3\n",
            "Line_4\n",
            "Line_5\n"
          ]
        }
      ],
      "source": [
        "with open(file='input.txt', mode='w+', encoding='utf-8') as file_in:\n",
        "    file_in.writelines(['Line_1\\n', 'Line_2\\n', 'Line_3\\n', 'Line_4\\n', 'Line_5'])\n",
        "    file_in.seek(0)\n",
        "    print('Содержимое исходного файла:')\n",
        "    print(file_in.read())\n",
        "\n",
        "try:\n",
        "    with open(file='input.txt', mode='r', encoding='utf-8') as file_in:\n",
        "        lines = file_in.readlines()\n",
        "        with open(file='output.txt', mode='w+', encoding='utf-8') as file_out:\n",
        "            file_out.writelines(lines)\n",
        "            file_out.seek(0)\n",
        "            print('\\nСодержимое скопированного файла:')\n",
        "            print(file_out.read())\n",
        "except FileNotFoundError:\n",
        "    print('Файл не найден')"
      ]
    },
    {
      "cell_type": "markdown",
      "id": "2f7c8ee5",
      "metadata": {
        "id": "2f7c8ee5"
      },
      "source": [
        "---"
      ]
    },
    {
      "cell_type": "markdown",
      "id": "70ee398b",
      "metadata": {
        "id": "70ee398b"
      },
      "source": [
        "### **Пункт №5. Поиск слова в файле**"
      ]
    },
    {
      "cell_type": "markdown",
      "id": "c67f8987",
      "metadata": {
        "id": "c67f8987"
      },
      "source": [
        "Напишите программу, которая открывает файл output.txt и проверяет, содержится ли в нём слово, введённое пользователем.\n",
        "\n",
        "**ОБЯЗАТЕЛЬНО:**\n",
        "- Создайте файл с минимум 10 строками текста\n",
        "- Покажите содержимое файла\n",
        "- Протестируйте поиск минимум 5 различных слов\n",
        "- Выведите номера строк, где найдено слово\n",
        "- Покажите количество вхождений слова"
      ]
    },
    {
      "cell_type": "code",
      "execution_count": 10,
      "id": "d961bbf3",
      "metadata": {
        "id": "d961bbf3",
        "colab": {
          "base_uri": "https://localhost:8080/"
        },
        "outputId": "34b79e0a-fdb8-4833-df9f-2e07f0ac3606"
      },
      "outputs": [
        {
          "output_type": "stream",
          "name": "stdout",
          "text": [
            "Apricot\n",
            "Blueberry\n",
            "Cherries\n",
            "Nectarine\n",
            "Apple\n",
            "Watermelon\n",
            "Nectarine\n",
            "Nectarine\n",
            "Pineapple\n",
            "Cherries\n",
            "\n",
            "Введите слово: apple\n",
            "Номера строк, где найдено слово: [5]\n",
            "Количество вхождений слова: 1\n",
            "Введите слово: watermelon\n",
            "Номера строк, где найдено слово: [6]\n",
            "Количество вхождений слова: 1\n",
            "Введите слово: cherries\n",
            "Номера строк, где найдено слово: [3, 10]\n",
            "Количество вхождений слова: 2\n",
            "Введите слово: nectarine\n",
            "Номера строк, где найдено слово: [4, 7, 8]\n",
            "Количество вхождений слова: 3\n",
            "Введите слово: pear\n",
            "Слово не найдено\n"
          ]
        }
      ],
      "source": [
        "def find_lines(word, lines):\n",
        "    num_words = []\n",
        "    for i in range(len(lines)):\n",
        "        if lines[i] == word:\n",
        "            num_words.append(i+1)\n",
        "    return num_words\n",
        "\n",
        "with open(file='output.txt', mode='w+', encoding='utf-8') as file:\n",
        "    file.writelines(['Apricot\\n', 'Blueberry\\n', 'Cherries\\n', 'Nectarine\\n', 'Apple\\n', 'Watermelon\\n', 'Nectarine\\n',\n",
        "                     'Nectarine\\n', 'Pineapple\\n', 'Cherries'])\n",
        "    file.seek(0)\n",
        "    print(file.read() + '\\n')\n",
        "\n",
        "with open(file='output.txt', mode='r', encoding='utf-8') as file:\n",
        "    lines = file.read().splitlines()\n",
        "    for _ in range(5):\n",
        "        word = input('Введите слово: ').strip().lower().capitalize()\n",
        "        if word in lines:\n",
        "            print(f'Номера строк, где найдено слово: {find_lines(word, lines)}')\n",
        "            print(f'Количество вхождений слова: {lines.count(word)}')\n",
        "        else:\n",
        "            print('Слово не найдено')"
      ]
    },
    {
      "cell_type": "markdown",
      "id": "8d69c77a",
      "metadata": {
        "id": "8d69c77a"
      },
      "source": [
        "---"
      ]
    },
    {
      "cell_type": "markdown",
      "id": "0079e067",
      "metadata": {
        "id": "0079e067"
      },
      "source": [
        "### **Пункт №6. Чтение файла с обработкой FileNotFoundError**"
      ]
    },
    {
      "cell_type": "markdown",
      "id": "c3d27312",
      "metadata": {
        "id": "c3d27312"
      },
      "source": [
        "Напишите программу, которая запрашивает у пользователя имя файла и пытается открыть его. Если файла не существует, перехватите FileNotFoundError и выведите сообщение «Файл не найден!».\n",
        "\n",
        "**ОБЯЗАТЕЛЬНО:**\n",
        "- Протестируйте с существующим файлом\n",
        "- Протестируйте с несуществующим файлом\n",
        "- Покажите содержимое существующего файла"
      ]
    },
    {
      "cell_type": "code",
      "execution_count": 12,
      "id": "0c262bd2",
      "metadata": {
        "id": "0c262bd2",
        "colab": {
          "base_uri": "https://localhost:8080/"
        },
        "outputId": "3a61205d-edfc-407a-8741-e3dab0d9c8f7"
      },
      "outputs": [
        {
          "output_type": "stream",
          "name": "stdout",
          "text": [
            "Введите имя файла: output.txt\n",
            "Line_1\n",
            "Line_2\n",
            "Line_3\n",
            "Введите имя файла: non_existent_file.txt\n",
            "Файл не найден!\n"
          ]
        }
      ],
      "source": [
        "with open(file='output.txt', mode='w', encoding='utf-8') as file:\n",
        "    file.writelines(['Line_1\\n', 'Line_2\\n', 'Line_3'])\n",
        "\n",
        "for _ in range(2):\n",
        "    try:\n",
        "        filename = input('Введите имя файла: ')\n",
        "        with open(file=filename, mode='r', encoding='utf-8') as file:\n",
        "            print(file.read())\n",
        "    except FileNotFoundError:\n",
        "        print('Файл не найден!')"
      ]
    },
    {
      "cell_type": "markdown",
      "id": "c3258b46",
      "metadata": {
        "id": "c3258b46"
      },
      "source": [
        "---"
      ]
    },
    {
      "cell_type": "markdown",
      "id": "02e0767b",
      "metadata": {
        "id": "02e0767b"
      },
      "source": [
        "### **Пункт №7. Подсчет статистики файла**"
      ]
    },
    {
      "cell_type": "markdown",
      "id": "1c33b711",
      "metadata": {
        "id": "1c33b711"
      },
      "source": [
        "Напишите функцию `file_statistics(filename)`, которая читает текстовый файл и возвращает словарь со статистикой:\n",
        "- Количество строк\n",
        "- Количество слов\n",
        "- Количество символов (с пробелами и без)\n",
        "\n",
        "**ОБЯЗАТЕЛЬНО:**\n",
        "- Создайте тестовый файл с минимум 5 строками текста\n",
        "- Выведите содержимое файла ДО обработки\n",
        "- Выведите полученную статистику\n",
        "- Обработайте случай несуществующего файла\n",
        "\n",
        "```python\n",
        "# Создание тестового файла\n",
        "test_content = \"\"\"Первая строка текста\n",
        "Вторая строка с большим количеством слов\n",
        "Третья строка\n",
        "Четвертая строка для теста\n",
        "Пятая и последняя строка\"\"\"\n",
        "\n",
        "# Сохраните в файл и продемонстрируйте работу\n",
        "```"
      ]
    },
    {
      "cell_type": "code",
      "execution_count": 13,
      "id": "43bfd6b8",
      "metadata": {
        "id": "43bfd6b8",
        "colab": {
          "base_uri": "https://localhost:8080/"
        },
        "outputId": "536c4ece-4efe-43fe-af7b-304e2a53371b"
      },
      "outputs": [
        {
          "output_type": "stream",
          "name": "stdout",
          "text": [
            "Первая строка текста\n",
            "Вторая строка с большим количеством слов\n",
            "Третья строка\n",
            "Четвертая строка для теста\n",
            "Пятая и последняя строка\n",
            "\n",
            "{'Количество строк': 5, 'Количество слов': 19, 'Количество символов (включая пробелы)': 123, 'Количество символов (не включая пробелы)': 109}\n"
          ]
        }
      ],
      "source": [
        "def file_statistics(filename):\n",
        "    try:\n",
        "        with open(file=filename, mode='r', encoding='utf-8') as s_file:\n",
        "            line = s_file.read()\n",
        "            stats = {\n",
        "                'Количество строк': len(line.split('\\n')),\n",
        "                'Количество слов': len(line.split()),\n",
        "                'Количество символов (включая пробелы)': len( line.replace('\\n', '') ),\n",
        "                'Количество символов (не включая пробелы)': len( line.replace('\\n', '').replace(' ', '') )\n",
        "            }\n",
        "            return stats\n",
        "    except FileNotFoundError:\n",
        "        print('Файл не найден')\n",
        "        return 0\n",
        "\n",
        "\n",
        "with open(file='output.txt', mode='w+', encoding='utf-8') as file:\n",
        "    file_content = '''Первая строка текста.\n",
        "Вторая строка с большим количеством слов.\n",
        "Третья строка.\n",
        "Четвертая строка для теста.\n",
        "Пятая и последняя строка'''\n",
        "    file.writelines(file_content.split('.'))\n",
        "    file.seek(0)\n",
        "    print(file.read() + '\\n')\n",
        "\n",
        "print(file_statistics('output.txt'))"
      ]
    },
    {
      "cell_type": "markdown",
      "id": "903281dd",
      "metadata": {
        "id": "903281dd"
      },
      "source": [
        "---"
      ]
    },
    {
      "cell_type": "markdown",
      "id": "ad8b4ae4",
      "metadata": {
        "id": "ad8b4ae4"
      },
      "source": [
        "### **Пункт №8. Поиск и замена в файле**"
      ]
    },
    {
      "cell_type": "markdown",
      "id": "e5230d0a",
      "metadata": {
        "id": "e5230d0a"
      },
      "source": [
        "Напишите функцию `replace_in_file(filename, old_text, new_text)`, которая заменяет все вхождения `old_text` на `new_text` в файле и сохраняет результат в новый файл с префиксом \"modified_\".\n",
        "\n",
        "**ОБЯЗАТЕЛЬНО:**\n",
        "- Создайте файл с текстом, содержащим минимум 3 вхождения заменяемого слова\n",
        "- Выведите содержимое файла ДО замены\n",
        "- Выполните замену\n",
        "- Выведите содержимое файла ПОСЛЕ замены\n",
        "- Покажите количество произведенных замен"
      ]
    },
    {
      "cell_type": "code",
      "execution_count": 14,
      "id": "64a05e35",
      "metadata": {
        "id": "64a05e35",
        "colab": {
          "base_uri": "https://localhost:8080/"
        },
        "outputId": "ce62f31a-f3cf-41a3-8025-28d8d7cd8bee"
      },
      "outputs": [
        {
          "output_type": "stream",
          "name": "stdout",
          "text": [
            "Содержимое файла до замены:\n",
            "\n",
            "How much wood would a woodchuck chuck if a woodchuck could chuck wood?\n",
            "He would chuck, he would, as much as he could, and chuck as much wood\n",
            "As a woodchuck would if a woodchuck could chuck wood\n",
            "\n",
            "Содержимое файла после замены:\n",
            "\n",
            "How much wood would a сурок chuck if a сурок could chuck wood?\n",
            "He would chuck, he would, as much as he could, and chuck as much wood\n",
            "As a сурок would if a сурок could chuck wood\n",
            "\n",
            "Количество произведенных замен: 4\n"
          ]
        }
      ],
      "source": [
        "def replace_in_file(filename, old_text, new_text):\n",
        "    with open(file=filename, mode='r', encoding='utf-8') as file_in:\n",
        "        line = file_in.read()\n",
        "        k_r = line.count(old_text)\n",
        "        line = line.replace(old_text, new_text)\n",
        "        with open(file=('modified_' + filename), mode='w+', encoding='utf-8') as file_out:\n",
        "            file_out.write(line)\n",
        "            file_out.seek(0)\n",
        "            print('Содержимое файла после замены:\\n')\n",
        "            print(file_out.read() + '\\n')\n",
        "        print(f'Количество произведенных замен: {k_r}')\n",
        "\n",
        "\n",
        "with open(file='input.txt', mode='w+', encoding='utf-8') as file:\n",
        "    text = '''How much wood would a woodchuck chuck if a woodchuck could chuck wood?.\n",
        "He would chuck, he would, as much as he could, and chuck as much wood.\n",
        "As a woodchuck would if a woodchuck could chuck wood'''\n",
        "    file.writelines(text.split('.'))\n",
        "    file.seek(0)\n",
        "    print('Содержимое файла до замены:\\n')\n",
        "    print(file.read() + '\\n')\n",
        "\n",
        "replace_in_file('input.txt', 'woodchuck', 'сурок')"
      ]
    },
    {
      "cell_type": "markdown",
      "id": "f77b0568",
      "metadata": {
        "id": "f77b0568"
      },
      "source": [
        "---"
      ]
    },
    {
      "cell_type": "markdown",
      "id": "79a081b1",
      "metadata": {
        "id": "79a081b1"
      },
      "source": [
        "### **Пункт №9. Объединение файлов**"
      ]
    },
    {
      "cell_type": "markdown",
      "id": "599cee3c",
      "metadata": {
        "id": "599cee3c"
      },
      "source": [
        "Создайте функцию `merge_files(file_list, output_file)`, которая объединяет содержимое нескольких текстовых файлов в один, добавляя после каждого разделитель.\n",
        "\n",
        "**ОБЯЗАТЕЛЬНО:**\n",
        "- Создайте минимум 3 файла с разным содержимым\n",
        "- Выведите содержимое КАЖДОГО исходного файла\n",
        "- Выполните объединение\n",
        "- Выведите содержимое результирующего файла"
      ]
    },
    {
      "cell_type": "code",
      "execution_count": 15,
      "id": "581b5868",
      "metadata": {
        "id": "581b5868",
        "colab": {
          "base_uri": "https://localhost:8080/"
        },
        "outputId": "be769244-dc5f-4fec-a774-33569546e27b"
      },
      "outputs": [
        {
          "output_type": "stream",
          "name": "stdout",
          "text": [
            "Содержимое исходных файлов:\n",
            "\n",
            "Содержимое файла \"input_1.txt\":\n",
            "1936: Алан Тьюринг формулирует теорию машины Тьюринга, представляющую собой основу для теории вычислений и информатики.\n",
            "Содержимое файла \"input_2.txt\":\n",
            "1940-е: В период Второй мировой войны, информатика становится важной для расшифровки кодов и решения военных задач.\n",
            "Содержимое файла \"input_3.txt\":\n",
            "1948: Клод Шеннон «Математическая теория связи»\n",
            "\n",
            "Содержимое результирующего файла:\n",
            "\n",
            "1936: Алан Тьюринг формулирует теорию машины Тьюринга, представляющую собой основу для теории вычислений и информатики.\n",
            "----------------------------------------------------------------------------------------------------\n",
            "1940-е: В период Второй мировой войны, информатика становится важной для расшифровки кодов и решения военных задач.\n",
            "----------------------------------------------------------------------------------------------------\n",
            "1948: Клод Шеннон «Математическая теория связи»\n",
            "----------------------------------------------------------------------------------------------------\n",
            "\n"
          ]
        }
      ],
      "source": [
        "def merge_files(file_list, output_file):\n",
        "    with open(file=output_file, mode='w+', encoding='utf-8') as file_out:\n",
        "        for filename in file_list:\n",
        "            with open(file=filename, mode='r', encoding='utf-8') as in_file:\n",
        "                line = in_file.read()\n",
        "                file_out.writelines([line + '\\n', '-'*100 + '\\n'])\n",
        "        file_out.seek(0)\n",
        "        print('\\n' + 'Содержимое результирующего файла:' + '\\n')\n",
        "        print(file_out.read())\n",
        "\n",
        "\n",
        "print('Содержимое исходных файлов:' + '\\n')\n",
        "with open(file='input_1.txt', mode='w+', encoding='utf-8') as file:\n",
        "    file.write('1936: Алан Тьюринг формулирует теорию машины Тьюринга,'\n",
        "               ' представляющую собой основу для теории вычислений и информатики.')\n",
        "    file.seek(0)\n",
        "    print(f'Содержимое файла \\\"input_1.txt\\\":')\n",
        "    print(file.read())\n",
        "with open(file='input_2.txt', mode='w+', encoding='utf-8') as file:\n",
        "    file.write('1940-е: В период Второй мировой войны,'\n",
        "               ' информатика становится важной для расшифровки кодов и решения военных задач.')\n",
        "    file.seek(0)\n",
        "    print(f'Содержимое файла \\\"input_2.txt\\\":')\n",
        "    print(file.read())\n",
        "with open(file='input_3.txt', mode='w+', encoding='utf-8') as file:\n",
        "    file.write('1948: Клод Шеннон «Математическая теория связи»')\n",
        "    file.seek(0)\n",
        "    print(f'Содержимое файла \\\"input_3.txt\\\":')\n",
        "    print(file.read())\n",
        "\n",
        "merge_files(['input_1.txt', 'input_2.txt', 'input_3.txt'], 'output.txt')"
      ]
    },
    {
      "cell_type": "markdown",
      "id": "eb866091",
      "metadata": {
        "id": "eb866091"
      },
      "source": [
        "---"
      ]
    }
  ],
  "metadata": {
    "colab": {
      "provenance": [],
      "include_colab_link": true
    },
    "language_info": {
      "name": "python"
    },
    "kernelspec": {
      "name": "python3",
      "display_name": "Python 3"
    }
  },
  "nbformat": 4,
  "nbformat_minor": 5
}